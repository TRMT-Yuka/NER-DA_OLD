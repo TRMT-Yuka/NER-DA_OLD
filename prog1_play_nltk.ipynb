{
 "cells": [
  {
   "cell_type": "code",
   "execution_count": 1,
   "metadata": {},
   "outputs": [],
   "source": [
    "import torch\n",
    "device = torch.device(\"cuda:0\")"
   ]
  },
  {
   "cell_type": "code",
   "execution_count": 2,
   "metadata": {},
   "outputs": [],
   "source": [
    "with open('data_original/train.txt', 'r', encoding='UTF-8') as f:\n",
    "    data = f.read()\n",
    "    data = data.split(\"\\n\\n\")\n",
    "    # data = data[1:14987] #不要部分をカット"
   ]
  },
  {
   "cell_type": "code",
   "execution_count": 3,
   "metadata": {
    "scrolled": true
   },
   "outputs": [],
   "source": [
    "# storing conll format data in multiple list\n",
    "document = []\n",
    "for sentence in data:#14988 sentences\n",
    "    \n",
    "    new_sentence_list = []\n",
    "    sentence_list = sentence.split(\"\\n\")\n",
    "    \n",
    "    for token in sentence_list:\n",
    "        token_list = token.split(\"\\t\")\n",
    "        new_sentence_list.append(token_list)\n",
    "    document.append(new_sentence_list)\n",
    "    \n",
    "    # [[['-DOCSTART-', '-X-', '-X-', 'O']],\n",
    "    #  [['EU', 'NNP', 'B-NP', 'B-ORG'],\n",
    "    #   ['rejects', 'VBZ', 'B-VP', 'O'],\n",
    "    #   ['German', 'JJ', 'B-NP', 'B-MISC'],..."
   ]
  },
  {
   "cell_type": "code",
   "execution_count": 4,
   "metadata": {},
   "outputs": [
    {
     "data": {
      "text/plain": [
       "[['Paul', 'O'], ['International', 'O'], ['airport', 'O'], ['.', 'O']]"
      ]
     },
     "execution_count": 4,
     "metadata": {},
     "output_type": "execute_result"
    }
   ],
   "source": [
    "document[0]"
   ]
  },
  {
   "cell_type": "markdown",
   "metadata": {},
   "source": [
    "### 形態素解析情報を新たに付与"
   ]
  },
  {
   "cell_type": "code",
   "execution_count": 5,
   "metadata": {},
   "outputs": [],
   "source": [
    "from nltk.parse.stanford import *\n",
    "import nltk\n",
    "from nltk.tree import *\n",
    "import svgling"
   ]
  },
  {
   "cell_type": "code",
   "execution_count": 6,
   "metadata": {},
   "outputs": [
    {
     "name": "stderr",
     "output_type": "stream",
     "text": [
      "C:\\Users\\momo1\\AppData\\Local\\Temp\\ipykernel_5664\\4148535018.py:8: DeprecationWarning: The StanfordParser will be deprecated\n",
      "Please use \u001b[91mnltk.parse.corenlp.CoreNLPParser\u001b[0m instead.\n",
      "  pos = StanfordParser(path_to_jar=parser, path_to_models_jar = parser_model)\n",
      "C:\\Users\\momo1\\AppData\\Local\\Temp\\ipykernel_5664\\4148535018.py:10: DeprecationWarning: The StanfordDependencyParser will be deprecated\n",
      "Please use \u001b[91mnltk.parse.corenlp.CoreNLPDependencyParser\u001b[0m instead.\n",
      "  dep_parser = StanfordDependencyParser(path_to_jar=parser, path_to_models_jar = parser_model)\n"
     ]
    }
   ],
   "source": [
    "java_path = \"C:/Program Files/Java/jre1.8.0_321/bin/java.exe\"\n",
    "os.environ['JAVAHOME'] = java_path\n",
    "\n",
    "parser =  'stanford-corenlp/stanford-parser-full-2020-11-17/stanford-parser.jar'\n",
    "parser_model = 'stanford-corenlp/stanford-corenlp-4.2.0-models-english.jar'\n",
    "\n",
    "#POSタグの分析用\n",
    "pos = StanfordParser(path_to_jar=parser, path_to_models_jar = parser_model)\n",
    "#係り受け関係の分析用\n",
    "dep_parser = StanfordDependencyParser(path_to_jar=parser, path_to_models_jar = parser_model)\n",
    "\n",
    "def POSTagAnalysis(text):\n",
    "    out = pos.raw_parse(text)\n",
    "    out = list(out)\n",
    "    tree = out[0]\n",
    "    return tree\n",
    "\n",
    "def dependenceAnalysis(text):\n",
    "    out = dep_parser.raw_parse(text)\n",
    "    out = list(out)\n",
    "    parse = out[0]\n",
    "    return parse"
   ]
  },
  {
   "cell_type": "code",
   "execution_count": 7,
   "metadata": {},
   "outputs": [
    {
     "data": {
      "text/plain": [
       "\"It starred Hicks 's wife , Ellaline Terriss and Edmund Payne .\""
      ]
     },
     "execution_count": 7,
     "metadata": {},
     "output_type": "execute_result"
    }
   ],
   "source": [
    "text = \" \".join([token[0] for token in document[1]])\n",
    "text"
   ]
  },
  {
   "cell_type": "code",
   "execution_count": null,
   "metadata": {},
   "outputs": [],
   "source": [
    "label = [token[0] for token in document[1]]"
   ]
  },
  {
   "cell_type": "code",
   "execution_count": 8,
   "metadata": {},
   "outputs": [],
   "source": [
    "tree = POSTagAnalysis(text)\n",
    "# t = pos.raw_parse(text)"
   ]
  },
  {
   "cell_type": "code",
   "execution_count": 16,
   "metadata": {},
   "outputs": [],
   "source": [
    "# import inspect\n",
    "# print(type(tree))\n",
    "# for x in inspect.getmembers(tree, inspect.ismethod):\n",
    "#     print(x[0])"
   ]
  },
  {
   "cell_type": "code",
   "execution_count": 15,
   "metadata": {},
   "outputs": [
    {
     "data": {
      "text/plain": [
       "[('It', 'PRP'),\n",
       " ('starred', 'VBD'),\n",
       " ('Hicks', 'NNP'),\n",
       " (\"'s\", 'POS'),\n",
       " ('wife', 'NN'),\n",
       " (',', ','),\n",
       " ('Ellaline', 'NNP'),\n",
       " ('Terriss', 'NNP'),\n",
       " ('and', 'CC'),\n",
       " ('Edmund', 'NNP'),\n",
       " ('Payne', 'NNP'),\n",
       " ('.', '.')]"
      ]
     },
     "execution_count": 15,
     "metadata": {},
     "output_type": "execute_result"
    }
   ],
   "source": [
    "tree.pos()"
   ]
  },
  {
   "cell_type": "code",
   "execution_count": 156,
   "metadata": {},
   "outputs": [
    {
     "data": {
      "text/plain": [
       "<bound method Tree.fromlist of <class 'nltk.tree.tree.Tree'>>"
      ]
     },
     "execution_count": 156,
     "metadata": {},
     "output_type": "execute_result"
    }
   ],
   "source": [
    "tree.fromlist"
   ]
  },
  {
   "cell_type": "code",
   "execution_count": 157,
   "metadata": {},
   "outputs": [
    {
     "data": {
      "text/plain": [
       "3"
      ]
     },
     "execution_count": 157,
     "metadata": {},
     "output_type": "execute_result"
    }
   ],
   "source": [
    "len(tree[0])"
   ]
  },
  {
   "cell_type": "code",
   "execution_count": 158,
   "metadata": {},
   "outputs": [
    {
     "name": "stdout",
     "output_type": "stream",
     "text": [
      "                               ROOT                                              \n",
      "                                |                                                 \n",
      "                                S                                                \n",
      "  ______________________________|______________________________________________   \n",
      " |                              VP                                             | \n",
      " |      ________________________|______                                        |  \n",
      " |     |                               NP                                      | \n",
      " |     |                _______________|_____________________________          |  \n",
      " |     |               NP       |             |           |          |         | \n",
      " |     |            ___|___     |             |           |          |         |  \n",
      " NP    |           NP      |    |             NP          |          NP        | \n",
      " |     |       ____|___    |    |       ______|_____      |     _____|____     |  \n",
      "PRP   VBD    NNP      POS  NN   ,     NNP          NNP    CC  NNP        NNP   . \n",
      " |     |      |        |   |    |      |            |     |    |          |    |  \n",
      " It starred Hicks      's wife  ,   Ellaline     Terriss and Edmund     Payne  . \n",
      "\n",
      "None\n"
     ]
    }
   ],
   "source": [
    "# # 木構造での出力\n",
    "print(tree.pretty_print())"
   ]
  },
  {
   "cell_type": "code",
   "execution_count": 159,
   "metadata": {},
   "outputs": [
    {
     "name": "stdout",
     "output_type": "stream",
     "text": [
      "(ROOT\n",
      "  (S\n",
      "    (NP (PRP It))\n",
      "    (VP\n",
      "      (VBD starred)\n",
      "      (NP\n",
      "        (NP (NP (NNP Hicks) (POS 's)) (NN wife))\n",
      "        (, ,)\n",
      "        (NP (NNP Ellaline) (NNP Terriss))\n",
      "        (CC and)\n",
      "        (NP (NNP Edmund) (NNP Payne))))\n",
      "    (. .)))\n",
      "<class 'nltk.tree.tree.Tree'>\n"
     ]
    }
   ],
   "source": [
    "print(tree)\n",
    "print(type(tree))"
   ]
  },
  {
   "cell_type": "code",
   "execution_count": 160,
   "metadata": {},
   "outputs": [
    {
     "data": {
      "text/plain": [
       "8"
      ]
     },
     "execution_count": 160,
     "metadata": {},
     "output_type": "execute_result"
    }
   ],
   "source": [
    "tree.height()"
   ]
  },
  {
   "cell_type": "code",
   "execution_count": 175,
   "metadata": {},
   "outputs": [],
   "source": [
    "l = tree.treepositions()"
   ]
  },
  {
   "cell_type": "code",
   "execution_count": 180,
   "metadata": {},
   "outputs": [],
   "source": [
    "new_l = []\n",
    "for i in l:\n",
    "    if i == ():\n",
    "        pass\n",
    "    elif i[-1] != 0:\n",
    "        new_l.append(i)"
   ]
  },
  {
   "cell_type": "code",
   "execution_count": 181,
   "metadata": {},
   "outputs": [
    {
     "data": {
      "text/plain": [
       "[(0, 1),\n",
       " (0, 1, 1),\n",
       " (0, 1, 1, 0, 0, 1),\n",
       " (0, 1, 1, 0, 1),\n",
       " (0, 1, 1, 1),\n",
       " (0, 1, 1, 2),\n",
       " (0, 1, 1, 2, 1),\n",
       " (0, 1, 1, 3),\n",
       " (0, 1, 1, 4),\n",
       " (0, 1, 1, 4, 1),\n",
       " (0, 2)]"
      ]
     },
     "execution_count": 181,
     "metadata": {},
     "output_type": "execute_result"
    }
   ],
   "source": [
    "new_l"
   ]
  },
  {
   "cell_type": "code",
   "execution_count": 183,
   "metadata": {},
   "outputs": [
    {
     "name": "stdout",
     "output_type": "stream",
     "text": [
      "(VP\n",
      "  (VBD starred)\n",
      "  (NP\n",
      "    (NP (NP (NNP Hicks) (POS 's)) (NN wife))\n",
      "    (, ,)\n",
      "    (NP (NNP Ellaline) (NNP Terriss))\n",
      "    (CC and)\n",
      "    (NP (NNP Edmund) (NNP Payne))))\n",
      "(NP\n",
      "  (NP (NP (NNP Hicks) (POS 's)) (NN wife))\n",
      "  (, ,)\n",
      "  (NP (NNP Ellaline) (NNP Terriss))\n",
      "  (CC and)\n",
      "  (NP (NNP Edmund) (NNP Payne)))\n",
      "(POS 's)\n",
      "(NN wife)\n",
      "(, ,)\n",
      "(NP (NNP Ellaline) (NNP Terriss))\n",
      "(NNP Terriss)\n"
     ]
    }
   ],
   "source": [
    "tree[0][1].pprint()\n",
    "tree[0][1][1].pprint()\n",
    "tree[0][1][1][0][0][1].pprint()\n",
    "tree[0][1][1][0][1].pprint()\n",
    "tree[0][1][1][1].pprint()\n",
    "tree[0][1][1][2].pprint()\n",
    "tree[0][1][1][2][1].pprint()"
   ]
  },
  {
   "cell_type": "code",
   "execution_count": 184,
   "metadata": {},
   "outputs": [
    {
     "data": {
      "text/plain": [
       "[ROOT -> S,\n",
       " S -> NP VP .,\n",
       " NP -> PRP,\n",
       " PRP -> 'It',\n",
       " VP -> VBD NP,\n",
       " VBD -> 'starred',\n",
       " NP -> NP , NP CC NP,\n",
       " NP -> NP NN,\n",
       " NP -> NNP POS,\n",
       " NNP -> 'Hicks',\n",
       " POS -> \"'s\",\n",
       " NN -> 'wife',\n",
       " , -> ',',\n",
       " NP -> NNP NNP,\n",
       " NNP -> 'Ellaline',\n",
       " NNP -> 'Terriss',\n",
       " CC -> 'and',\n",
       " NP -> NNP NNP,\n",
       " NNP -> 'Edmund',\n",
       " NNP -> 'Payne',\n",
       " . -> '.']"
      ]
     },
     "execution_count": 184,
     "metadata": {},
     "output_type": "execute_result"
    }
   ],
   "source": [
    "tree.productions()"
   ]
  },
  {
   "cell_type": "code",
   "execution_count": 146,
   "metadata": {},
   "outputs": [
    {
     "data": {
      "text/plain": [
       "S -> NP VP ."
      ]
     },
     "execution_count": 146,
     "metadata": {},
     "output_type": "execute_result"
    }
   ],
   "source": [
    "l[1]"
   ]
  },
  {
   "cell_type": "code",
   "execution_count": 115,
   "metadata": {},
   "outputs": [],
   "source": [
    "tree.set_label(\"NP\")"
   ]
  },
  {
   "cell_type": "code",
   "execution_count": 110,
   "metadata": {},
   "outputs": [
    {
     "data": {
      "text/plain": [
       "'\\\\Tree [.ROOT\\n        [.FRAG\\n          [.NP [.NNP Paul ] [.NNP International ] ]\\n          [.NP [.NN airport ] ]\\n          [.. . ] ] ]'"
      ]
     },
     "execution_count": 110,
     "metadata": {},
     "output_type": "execute_result"
    }
   ],
   "source": [
    "tree.pformat_latex_qtree()"
   ]
  },
  {
   "cell_type": "code",
   "execution_count": 121,
   "metadata": {},
   "outputs": [],
   "source": [
    "tree.fromlist()"
   ]
  },
  {
   "cell_type": "code",
   "execution_count": 116,
   "metadata": {},
   "outputs": [
    {
     "data": {
      "text/plain": [
       "['Paul', 'International', 'airport', '.']"
      ]
     },
     "execution_count": 116,
     "metadata": {},
     "output_type": "execute_result"
    }
   ],
   "source": [
    "tree.leaves()"
   ]
  },
  {
   "cell_type": "code",
   "execution_count": 119,
   "metadata": {},
   "outputs": [],
   "source": [
    "tree.chomsky_normal_form()"
   ]
  },
  {
   "cell_type": "code",
   "execution_count": 18,
   "metadata": {},
   "outputs": [],
   "source": [
    "# tree.leaf_treeposition()"
   ]
  },
  {
   "cell_type": "code",
   "execution_count": null,
   "metadata": {},
   "outputs": [],
   "source": []
  }
 ],
 "metadata": {
  "kernelspec": {
   "display_name": "Python 3 (ipykernel)",
   "language": "python",
   "name": "python3"
  },
  "language_info": {
   "codemirror_mode": {
    "name": "ipython",
    "version": 3
   },
   "file_extension": ".py",
   "mimetype": "text/x-python",
   "name": "python",
   "nbconvert_exporter": "python",
   "pygments_lexer": "ipython3",
   "version": "3.9.6"
  }
 },
 "nbformat": 4,
 "nbformat_minor": 4
}
