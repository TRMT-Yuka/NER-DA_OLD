{
 "cells": [
  {
   "cell_type": "code",
   "execution_count": 71,
   "id": "6c0042b5-7031-4ce5-a036-ae8b3bc167b7",
   "metadata": {},
   "outputs": [],
   "source": [
    "import pickle"
   ]
  },
  {
   "cell_type": "code",
   "execution_count": 72,
   "id": "03bbb5fd-8eee-4cac-ba66-d25e4a578a56",
   "metadata": {},
   "outputs": [],
   "source": [
    "read_data = [10000,20000,30000,40000,50000,60000,70000,80000,90000,100000,110000,120000,131766]\n",
    "\n",
    "i = 1\n",
    "new_document = []\n",
    "\n",
    "for i in range(len(read_data)):\n",
    "    with open(\"data_pos_binary/train_data~\"+str(read_data[i])+\".binaryfile\", 'rb') as f:\n",
    "        new_document= new_document+pickle.load(f)"
   ]
  },
  {
   "cell_type": "code",
   "execution_count": 73,
   "id": "28ae6354-cbdb-4585-bd06-0a0b879eebb8",
   "metadata": {},
   "outputs": [
    {
     "data": {
      "text/plain": [
       "104925"
      ]
     },
     "execution_count": 73,
     "metadata": {},
     "output_type": "execute_result"
    }
   ],
   "source": [
    "len(new_document)"
   ]
  },
  {
   "cell_type": "code",
   "execution_count": 56,
   "id": "532efd3c-ae4d-4cef-af39-88eaa475cfb0",
   "metadata": {},
   "outputs": [],
   "source": [
    "# making dictonary object with label as key and token as value\n",
    "label_token_dic = {}\n",
    "for sentence in new_document:\n",
    "    for token_list in sentence:\n",
    "        label = token_list[1]\n",
    "        token = token_list[0]\n",
    "        if label not in label_token_dic:\n",
    "            label_token_dic[label] = set()\n",
    "        label_token_dic[label].add(token)\n",
    "        \n",
    "    #  {'NNP_B-ORG': {'Detroit',\n",
    "    #   'FK',\n",
    "    #   'ATRIA',\n",
    "    #   'DBRS',...\n",
    "    \n",
    "    # label_token_dic.keys() でkey一覧取得可"
   ]
  },
  {
   "cell_type": "code",
   "execution_count": 57,
   "id": "7342edd6-cd2c-4998-a047-8264da3c6b3f",
   "metadata": {},
   "outputs": [],
   "source": [
    "# making BI label list\n",
    "BI_label_list = [label for label in list(label_token_dic.keys()) if label[-2:] !='_O']\n",
    "    # ['NNP_B-ORG',\n",
    "    #  'JJ_B-MISC',\n",
    "    #  'NNP_B-PER',\n",
    "    #  'NNP_I-PER',"
   ]
  },
  {
   "cell_type": "code",
   "execution_count": 58,
   "id": "6e5c05ae-b53f-4b59-b5c6-4dd2dfc3baa9",
   "metadata": {},
   "outputs": [],
   "source": [
    "def Sent2str(sentence_list):\n",
    "    return \" \".join([token_list[0] for token_list in sentence_list])\n",
    "\n",
    "def random_choice_token(token_set):\n",
    "    n = random.randint(0,len(token_set)-1)\n",
    "    token_list=list(token_set)\n",
    "    return token_list[n]"
   ]
  },
  {
   "cell_type": "code",
   "execution_count": 74,
   "id": "3ab93dc7-be53-45e1-b4b9-6032eddc2713",
   "metadata": {},
   "outputs": [],
   "source": [
    "n = len(new_document)"
   ]
  },
  {
   "cell_type": "code",
   "execution_count": 75,
   "id": "b8096cc4-634b-4a00-8f7e-bfdc6c1c87a9",
   "metadata": {},
   "outputs": [],
   "source": [
    "import random\n",
    "import csv\n",
    "\n",
    "\n",
    "def SimpleDA_BI(n,filename):#remake for 2col data input\n",
    "    data_f_path = \"data_augment/SimpleDA_BI/\"+str(n)+\"_\"+filename+\".txt\"\n",
    "    memo_f_path = \"data_augment/SimpleDA_BI/\"+str(n)+\"_\"+filename+\"_memo.txt\"\n",
    "    with open(data_f_path,\"w\",encoding='UTF-8') as data_f, open(memo_f_path,\"w\",encoding='UTF-8') as memo_f:\n",
    "        for now in range(n):\n",
    "            if now%10 == 0:\n",
    "                print('\\r%d / %d' %(now, n), end='')\n",
    "\n",
    "            x = random.randint(0,len(new_document)-1)\n",
    "            origin_sentence = new_document[x]\n",
    "            aug_sentence = []\n",
    "            cnt = 0\n",
    "\n",
    "            for token_list in origin_sentence:\n",
    "                token = token_list[0]\n",
    "                label = token_list[1]\n",
    "\n",
    "                if label in BI_label_list:\n",
    "                    if len(label_token_dic[label])!=1:\n",
    "                        token=random_choice_token(label_token_dic[label]-{token})\n",
    "                        cnt = cnt + 1\n",
    "                        \n",
    "                aug_sentence.append([token,label])\n",
    "                data_f.write(\" \".join([token,label])+\"\\n\")\n",
    "            data_f.write(\"\\n\")\n",
    "\n",
    "            memo_f.write(str(x)+\"\\t\"+Sent2str(new_document[x])+\"\\n\")\n",
    "            memo_f.write(\" \"*len(str(x))+\"\\t\"+Sent2str(aug_sentence)+\"\\n\")\n",
    "            memo_f.write(\"\\n\")\n",
    "        \n",
    "        memo_f.write(str(cnt)+\"sentences augmented!!!! \\n\")"
   ]
  },
  {
   "cell_type": "code",
   "execution_count": 76,
   "id": "1e4155d5-6419-49de-9cff-21e4b2d1f19a",
   "metadata": {},
   "outputs": [
    {
     "name": "stdout",
     "output_type": "stream",
     "text": [
      "419690 / 419700"
     ]
    }
   ],
   "source": [
    "SimpleDA_BI(n*1,\"train\")\n",
    "SimpleDA_BI(n*4,\"train\")"
   ]
  },
  {
   "cell_type": "code",
   "execution_count": null,
   "id": "a04fe359-77b1-4ef7-b862-09521b9fa217",
   "metadata": {},
   "outputs": [],
   "source": [
    "read_data = [10000,18823]\n",
    "\n",
    "i = 1\n",
    "new_document = []\n",
    "\n",
    "for i in range(len(read_data)):\n",
    "    with open(\"data_pos_binary/dev_data~\"+str(read_data[i])+\".binaryfile\", 'rb') as f:\n",
    "        new_document= new_document+pickle.load(f)"
   ]
  },
  {
   "cell_type": "code",
   "execution_count": 70,
   "id": "4f1330f7-dcf8-4717-8a37-452a1a816619",
   "metadata": {},
   "outputs": [
    {
     "name": "stdout",
     "output_type": "stream",
     "text": [
      "59950 / 59960"
     ]
    }
   ],
   "source": [
    "SimpleDA_BI(n*1,\"dev\")\n",
    "SimpleDA_BI(n*4,\"dev\")"
   ]
  }
 ],
 "metadata": {
  "kernelspec": {
   "display_name": "Python 3 (ipykernel)",
   "language": "python",
   "name": "python3"
  },
  "language_info": {
   "codemirror_mode": {
    "name": "ipython",
    "version": 3
   },
   "file_extension": ".py",
   "mimetype": "text/x-python",
   "name": "python",
   "nbconvert_exporter": "python",
   "pygments_lexer": "ipython3",
   "version": "3.9.6"
  }
 },
 "nbformat": 4,
 "nbformat_minor": 5
}
