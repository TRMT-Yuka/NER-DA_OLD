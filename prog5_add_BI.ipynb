{
 "cells": [
  {
   "cell_type": "code",
   "execution_count": 39,
   "id": "fdf815e6-4a2d-44f5-8512-0a0dc090af2d",
   "metadata": {},
   "outputs": [],
   "source": [
    "#現在のデータはtempに退避\n",
    "with open('data_augment/SimpleDA_BI/x5/temp/dev.txt', 'r', encoding='UTF-8') as f:\n",
    "    data = f.read()\n",
    "    data = data.split(\"\\n\\n\")\n",
    "\n",
    "document = []\n",
    "for sentence in data:\n",
    "    new_sentence_list = []\n",
    "    sentence_list = sentence.split(\"\\n\")\n",
    "\n",
    "    for token in sentence_list:\n",
    "        token_list = token.split(\" \")\n",
    "        new_sentence_list.append(token_list)\n",
    "    document.append(new_sentence_list)"
   ]
  },
  {
   "cell_type": "code",
   "execution_count": 40,
   "id": "6a4fd236-698f-48be-91ee-e1725cf01669",
   "metadata": {},
   "outputs": [],
   "source": [
    "new_document = []\n",
    "for token in document:\n",
    "    new_token = []\n",
    "    try:\n",
    "        if len(token)==2 and token[0][1] != \"O\":\n",
    "            new_token.append([token[0][0],\"B-\"+token[0][1]])\n",
    "        else:\n",
    "            new_token.append(token[0])\n",
    "\n",
    "        for i in range(1,len(token)):\n",
    "            if token[i][1] != \"O\":#Oでない\n",
    "                if token[i][1] != token[i-1][1]:#直前とタグが同じ\n",
    "                    new_token.append([token[i][0],\"B-\"+token[i][1]])\n",
    "                else:\n",
    "                    new_token.append([token[i][0],\"I-\"+token[i][1]])\n",
    "            else:\n",
    "                new_token.append(token[i])\n",
    "    except:\n",
    "        print(token)\n",
    "        break\n",
    "    new_document.append(new_token)"
   ]
  },
  {
   "cell_type": "code",
   "execution_count": 37,
   "id": "46a6dbe1-b1ba-473c-8103-893fd9862b3a",
   "metadata": {},
   "outputs": [],
   "source": [
    "import csv\n",
    "newline=\"\\n\"\n",
    "delimiter=\" \"\n",
    "space_row = [\"\",\"\"]\n",
    "\n",
    "def add_BI(new_document,x,new_filename):    \n",
    "    with open(\"data_augment/SimpleDA_BI/\"+\"x\"+str(x)+\"/\"+new_filename, 'w', newline=newline,encoding='UTF-8') as file:\n",
    "        for sentence in new_document:\n",
    "            for token_list in sentence:\n",
    "                if len(token_list)==2: \n",
    "                    file.write(token_list[0]+delimiter+token_list[1]+\"\\n\")\n",
    "            file.write(\"\\n\")"
   ]
  },
  {
   "cell_type": "code",
   "execution_count": 41,
   "id": "21d80dd0-bfe7-43fc-8c02-43362476ea72",
   "metadata": {},
   "outputs": [],
   "source": [
    "add_BI(new_document,5,\"dev.txt\")"
   ]
  },
  {
   "cell_type": "code",
   "execution_count": null,
   "id": "d5a10aa2-0f65-431f-8062-1d9920af5b19",
   "metadata": {},
   "outputs": [],
   "source": []
  }
 ],
 "metadata": {
  "kernelspec": {
   "display_name": "Python 3 (ipykernel)",
   "language": "python",
   "name": "python3"
  },
  "language_info": {
   "codemirror_mode": {
    "name": "ipython",
    "version": 3
   },
   "file_extension": ".py",
   "mimetype": "text/x-python",
   "name": "python",
   "nbconvert_exporter": "python",
   "pygments_lexer": "ipython3",
   "version": "3.9.6"
  }
 },
 "nbformat": 4,
 "nbformat_minor": 5
}
